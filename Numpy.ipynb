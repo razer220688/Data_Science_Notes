{
 "cells": [
  {
   "cell_type": "code",
   "execution_count": 1,
   "metadata": {},
   "outputs": [
    {
     "name": "stdout",
     "output_type": "stream",
     "text": [
      "Collecting package metadata (current_repodata.json): done\n",
      "Solving environment: done\n",
      "\n",
      "## Package Plan ##\n",
      "\n",
      "  environment location: /home/abhi/anaconda3\n",
      "\n",
      "  added / updated specs:\n",
      "    - numpy\n",
      "\n",
      "\n",
      "The following packages will be downloaded:\n",
      "\n",
      "    package                    |            build\n",
      "    ---------------------------|-----------------\n",
      "    ca-certificates-2022.07.19 |       h06a4308_0         124 KB\n",
      "    certifi-2022.9.24          |   py37h06a4308_0         154 KB\n",
      "    conda-22.9.0               |   py37h06a4308_0         878 KB\n",
      "    openssl-1.1.1q             |       h7f8727e_0         2.5 MB\n",
      "    ------------------------------------------------------------\n",
      "                                           Total:         3.7 MB\n",
      "\n",
      "The following packages will be UPDATED:\n",
      "\n",
      "  ca-certificates                      2022.4.26-h06a4308_0 --> 2022.07.19-h06a4308_0\n",
      "  certifi                        2022.5.18.1-py37h06a4308_0 --> 2022.9.24-py37h06a4308_0\n",
      "  conda                               4.13.0-py37h06a4308_0 --> 22.9.0-py37h06a4308_0\n",
      "  openssl                                 1.1.1o-h7f8727e_0 --> 1.1.1q-h7f8727e_0\n",
      "\n",
      "\n",
      "\n",
      "Downloading and Extracting Packages\n",
      "ca-certificates-2022 | 124 KB    | ##################################### | 100% \n",
      "conda-22.9.0         | 878 KB    | ##################################### | 100% \n",
      "openssl-1.1.1q       | 2.5 MB    | ##################################### | 100% \n",
      "certifi-2022.9.24    | 154 KB    | ##################################### | 100% \n",
      "Preparing transaction: done\n",
      "Verifying transaction: done\n",
      "Executing transaction: done\n",
      "\n",
      "Note: you may need to restart the kernel to use updated packages.\n"
     ]
    }
   ],
   "source": [
    "conda install numpy"
   ]
  },
  {
   "cell_type": "code",
   "execution_count": 1,
   "metadata": {},
   "outputs": [],
   "source": [
    "import numpy as np"
   ]
  },
  {
   "cell_type": "markdown",
   "metadata": {},
   "source": [
    "# Creating a Numpy array"
   ]
  },
  {
   "cell_type": "code",
   "execution_count": 2,
   "metadata": {},
   "outputs": [
    {
     "data": {
      "text/plain": [
       "[1, 2, 3, 4, 5]"
      ]
     },
     "execution_count": 2,
     "metadata": {},
     "output_type": "execute_result"
    }
   ],
   "source": [
    "# from list\n",
    "list1 = [1,2,3,4,5]\n",
    "list1"
   ]
  },
  {
   "cell_type": "code",
   "execution_count": 3,
   "metadata": {},
   "outputs": [
    {
     "data": {
      "text/plain": [
       "array([1, 2, 3, 4, 5])"
      ]
     },
     "execution_count": 3,
     "metadata": {},
     "output_type": "execute_result"
    }
   ],
   "source": [
    "np.array(list1)"
   ]
  },
  {
   "cell_type": "code",
   "execution_count": 4,
   "metadata": {},
   "outputs": [
    {
     "data": {
      "text/plain": [
       "[[1, 2, 3], [4, 5, 6], [7, 8, 9]]"
      ]
     },
     "execution_count": 4,
     "metadata": {},
     "output_type": "execute_result"
    }
   ],
   "source": [
    "matrix1 = [[1,2,3],[4,5,6],[7,8,9]]\n",
    "matrix1"
   ]
  },
  {
   "cell_type": "code",
   "execution_count": 5,
   "metadata": {},
   "outputs": [
    {
     "data": {
      "text/plain": [
       "array([[1, 2, 3],\n",
       "       [4, 5, 6],\n",
       "       [7, 8, 9]])"
      ]
     },
     "execution_count": 5,
     "metadata": {},
     "output_type": "execute_result"
    }
   ],
   "source": [
    "np.array(matrix1)"
   ]
  },
  {
   "cell_type": "markdown",
   "metadata": {},
   "source": [
    "# Methods"
   ]
  },
  {
   "cell_type": "markdown",
   "metadata": {},
   "source": [
    "# arange\n",
    "returns evenly spaced values in a given interval\n",
    "\n",
    "np.arange(start, stop, step)"
   ]
  },
  {
   "cell_type": "code",
   "execution_count": 6,
   "metadata": {},
   "outputs": [
    {
     "data": {
      "text/plain": [
       "array([0, 1, 2, 3, 4, 5, 6, 7, 8, 9])"
      ]
     },
     "execution_count": 6,
     "metadata": {},
     "output_type": "execute_result"
    }
   ],
   "source": [
    "np.arange(0,10)"
   ]
  },
  {
   "cell_type": "code",
   "execution_count": 7,
   "metadata": {},
   "outputs": [
    {
     "data": {
      "text/plain": [
       "array([ 0,  2,  4,  6,  8, 10, 12, 14, 16, 18])"
      ]
     },
     "execution_count": 7,
     "metadata": {},
     "output_type": "execute_result"
    }
   ],
   "source": [
    "np.arange(0,20,2)"
   ]
  },
  {
   "cell_type": "markdown",
   "metadata": {},
   "source": [
    "# Zeros and Ones"
   ]
  },
  {
   "cell_type": "code",
   "execution_count": 8,
   "metadata": {},
   "outputs": [
    {
     "data": {
      "text/plain": [
       "array([0., 0., 0., 0., 0.])"
      ]
     },
     "execution_count": 8,
     "metadata": {},
     "output_type": "execute_result"
    }
   ],
   "source": [
    "np.zeros(5)"
   ]
  },
  {
   "cell_type": "code",
   "execution_count": 10,
   "metadata": {},
   "outputs": [
    {
     "data": {
      "text/plain": [
       "array([[0., 0., 0., 0., 0.],\n",
       "       [0., 0., 0., 0., 0.],\n",
       "       [0., 0., 0., 0., 0.],\n",
       "       [0., 0., 0., 0., 0.],\n",
       "       [0., 0., 0., 0., 0.]])"
      ]
     },
     "execution_count": 10,
     "metadata": {},
     "output_type": "execute_result"
    }
   ],
   "source": [
    "np.zeros((5,5))"
   ]
  },
  {
   "cell_type": "code",
   "execution_count": 11,
   "metadata": {},
   "outputs": [
    {
     "data": {
      "text/plain": [
       "array([1., 1., 1., 1., 1.])"
      ]
     },
     "execution_count": 11,
     "metadata": {},
     "output_type": "execute_result"
    }
   ],
   "source": [
    "np.ones(5)"
   ]
  },
  {
   "cell_type": "code",
   "execution_count": 12,
   "metadata": {},
   "outputs": [
    {
     "data": {
      "text/plain": [
       "array([[1., 1., 1., 1., 1.],\n",
       "       [1., 1., 1., 1., 1.],\n",
       "       [1., 1., 1., 1., 1.],\n",
       "       [1., 1., 1., 1., 1.],\n",
       "       [1., 1., 1., 1., 1.]])"
      ]
     },
     "execution_count": 12,
     "metadata": {},
     "output_type": "execute_result"
    }
   ],
   "source": [
    "np.ones((5,5))"
   ]
  },
  {
   "cell_type": "markdown",
   "metadata": {},
   "source": [
    "# Identity Matrix\n",
    "np.eye(number)"
   ]
  },
  {
   "cell_type": "code",
   "execution_count": 13,
   "metadata": {},
   "outputs": [
    {
     "data": {
      "text/plain": [
       "array([[1., 0., 0., 0., 0.],\n",
       "       [0., 1., 0., 0., 0.],\n",
       "       [0., 0., 1., 0., 0.],\n",
       "       [0., 0., 0., 1., 0.],\n",
       "       [0., 0., 0., 0., 1.]])"
      ]
     },
     "execution_count": 13,
     "metadata": {},
     "output_type": "execute_result"
    }
   ],
   "source": [
    "np.eye(5)"
   ]
  },
  {
   "cell_type": "markdown",
   "metadata": {},
   "source": [
    "# linspace\n",
    "returns evenly spaced numbers over a given interval, It is giving 50 numbers by default\n",
    "\n",
    "np.linspace(start,stop,number)"
   ]
  },
  {
   "cell_type": "code",
   "execution_count": 14,
   "metadata": {},
   "outputs": [
    {
     "data": {
      "text/plain": [
       "array([ 0.        ,  0.20408163,  0.40816327,  0.6122449 ,  0.81632653,\n",
       "        1.02040816,  1.2244898 ,  1.42857143,  1.63265306,  1.83673469,\n",
       "        2.04081633,  2.24489796,  2.44897959,  2.65306122,  2.85714286,\n",
       "        3.06122449,  3.26530612,  3.46938776,  3.67346939,  3.87755102,\n",
       "        4.08163265,  4.28571429,  4.48979592,  4.69387755,  4.89795918,\n",
       "        5.10204082,  5.30612245,  5.51020408,  5.71428571,  5.91836735,\n",
       "        6.12244898,  6.32653061,  6.53061224,  6.73469388,  6.93877551,\n",
       "        7.14285714,  7.34693878,  7.55102041,  7.75510204,  7.95918367,\n",
       "        8.16326531,  8.36734694,  8.57142857,  8.7755102 ,  8.97959184,\n",
       "        9.18367347,  9.3877551 ,  9.59183673,  9.79591837, 10.        ])"
      ]
     },
     "execution_count": 14,
     "metadata": {},
     "output_type": "execute_result"
    }
   ],
   "source": [
    "np.linspace(0,10)"
   ]
  },
  {
   "cell_type": "code",
   "execution_count": 15,
   "metadata": {},
   "outputs": [
    {
     "data": {
      "text/plain": [
       "array([ 0.,  5., 10.])"
      ]
     },
     "execution_count": 15,
     "metadata": {},
     "output_type": "execute_result"
    }
   ],
   "source": [
    "np.linspace(0,10,3)"
   ]
  },
  {
   "cell_type": "code",
   "execution_count": 16,
   "metadata": {},
   "outputs": [
    {
     "data": {
      "text/plain": [
       "array([0.        , 0.02040816, 0.04081633, 0.06122449, 0.08163265,\n",
       "       0.10204082, 0.12244898, 0.14285714, 0.16326531, 0.18367347,\n",
       "       0.20408163, 0.2244898 , 0.24489796, 0.26530612, 0.28571429,\n",
       "       0.30612245, 0.32653061, 0.34693878, 0.36734694, 0.3877551 ,\n",
       "       0.40816327, 0.42857143, 0.44897959, 0.46938776, 0.48979592,\n",
       "       0.51020408, 0.53061224, 0.55102041, 0.57142857, 0.59183673,\n",
       "       0.6122449 , 0.63265306, 0.65306122, 0.67346939, 0.69387755,\n",
       "       0.71428571, 0.73469388, 0.75510204, 0.7755102 , 0.79591837,\n",
       "       0.81632653, 0.83673469, 0.85714286, 0.87755102, 0.89795918,\n",
       "       0.91836735, 0.93877551, 0.95918367, 0.97959184, 1.        ])"
      ]
     },
     "execution_count": 16,
     "metadata": {},
     "output_type": "execute_result"
    }
   ],
   "source": [
    "np.linspace(0,1)"
   ]
  },
  {
   "cell_type": "code",
   "execution_count": 18,
   "metadata": {},
   "outputs": [
    {
     "data": {
      "text/plain": [
       "array([ 0.        ,  0.68965517,  1.37931034,  2.06896552,  2.75862069,\n",
       "        3.44827586,  4.13793103,  4.82758621,  5.51724138,  6.20689655,\n",
       "        6.89655172,  7.5862069 ,  8.27586207,  8.96551724,  9.65517241,\n",
       "       10.34482759, 11.03448276, 11.72413793, 12.4137931 , 13.10344828,\n",
       "       13.79310345, 14.48275862, 15.17241379, 15.86206897, 16.55172414,\n",
       "       17.24137931, 17.93103448, 18.62068966, 19.31034483, 20.        ])"
      ]
     },
     "execution_count": 18,
     "metadata": {},
     "output_type": "execute_result"
    }
   ],
   "source": [
    "np.linspace(0,20,30)"
   ]
  },
  {
   "cell_type": "markdown",
   "metadata": {},
   "source": [
    "# Random\n",
    "\n",
    "rand(shape)\n",
    "- Create an array of the given shape and populate it with random samples from a uniform distribution over ``[0, 1)``.\n",
    "\n",
    "randn(shape)\n",
    "- Return a sample (or samples) from the \"standard normal\" distribution. Unlike rand which is uniform\n",
    "\n",
    "randint(start,stop,step)\n",
    "- Return random integers from `low` (inclusive) to `high` (exclusive)."
   ]
  },
  {
   "cell_type": "code",
   "execution_count": 20,
   "metadata": {},
   "outputs": [
    {
     "data": {
      "text/plain": [
       "array([0.35418506, 0.54740133, 0.10719507, 0.98798777, 0.85871712])"
      ]
     },
     "execution_count": 20,
     "metadata": {},
     "output_type": "execute_result"
    }
   ],
   "source": [
    "np.random.rand(5)"
   ]
  },
  {
   "cell_type": "code",
   "execution_count": 21,
   "metadata": {},
   "outputs": [
    {
     "data": {
      "text/plain": [
       "array([[0.93844557, 0.37411701, 0.67497812, 0.08523061, 0.67701727],\n",
       "       [0.4486475 , 0.8557146 , 0.26027997, 0.37495518, 0.49958678],\n",
       "       [0.98818813, 0.80937018, 0.52274153, 0.27255762, 0.47019464],\n",
       "       [0.37517777, 0.16605338, 0.87629158, 0.41811044, 0.31421651],\n",
       "       [0.13619814, 0.46871821, 0.22192028, 0.39397458, 0.84156168]])"
      ]
     },
     "execution_count": 21,
     "metadata": {},
     "output_type": "execute_result"
    }
   ],
   "source": [
    "np.random.rand(5,5)"
   ]
  },
  {
   "cell_type": "code",
   "execution_count": 22,
   "metadata": {},
   "outputs": [
    {
     "data": {
      "text/plain": [
       "array([[[0.9952629 , 0.37422562, 0.96377842, 0.97533693, 0.75253198],\n",
       "        [0.32026528, 0.86005329, 0.01050715, 0.75400813, 0.99382903],\n",
       "        [0.39621715, 0.12304212, 0.81010596, 0.88530042, 0.94346928],\n",
       "        [0.50430447, 0.45603708, 0.9866525 , 0.92240655, 0.96048328],\n",
       "        [0.80019833, 0.46719256, 0.86062858, 0.19957245, 0.67836252]],\n",
       "\n",
       "       [[0.97274954, 0.03168469, 0.67066543, 0.35476599, 0.4097457 ],\n",
       "        [0.36819623, 0.63525997, 0.51552038, 0.10390085, 0.72212773],\n",
       "        [0.85651255, 0.53531883, 0.17551987, 0.18909391, 0.24392009],\n",
       "        [0.23369193, 0.02106833, 0.55672403, 0.17935508, 0.77935565],\n",
       "        [0.71218717, 0.30798111, 0.4566325 , 0.54300628, 0.97232981]],\n",
       "\n",
       "       [[0.13930541, 0.3888655 , 0.06989441, 0.8973573 , 0.50547818],\n",
       "        [0.57869967, 0.55115029, 0.40383624, 0.26402971, 0.66364537],\n",
       "        [0.48894436, 0.11744442, 0.85888556, 0.38466384, 0.34690192],\n",
       "        [0.98947428, 0.96692754, 0.94781631, 0.12600726, 0.34054134],\n",
       "        [0.40301095, 0.72643888, 0.31152167, 0.70176431, 0.70754155]],\n",
       "\n",
       "       [[0.29582746, 0.17088127, 0.86383634, 0.34577502, 0.20465054],\n",
       "        [0.52784917, 0.95054191, 0.5837654 , 0.86988788, 0.04510913],\n",
       "        [0.2581027 , 0.75474949, 0.29284108, 0.38644732, 0.62656479],\n",
       "        [0.87450831, 0.29205581, 0.78828206, 0.08210463, 0.11050816],\n",
       "        [0.88205347, 0.71720248, 0.82513504, 0.70573193, 0.34342134]],\n",
       "\n",
       "       [[0.67715626, 0.69579362, 0.22811856, 0.37549208, 0.9700342 ],\n",
       "        [0.84231216, 0.13683018, 0.26578539, 0.73632058, 0.22470971],\n",
       "        [0.26244372, 0.02702333, 0.40705829, 0.03328581, 0.41420472],\n",
       "        [0.30399858, 0.76901607, 0.75674388, 0.4575701 , 0.12687237],\n",
       "        [0.4062488 , 0.71612704, 0.84480294, 0.35041017, 0.14141975]]])"
      ]
     },
     "execution_count": 22,
     "metadata": {},
     "output_type": "execute_result"
    }
   ],
   "source": [
    "np.random.rand(5,5,5)"
   ]
  },
  {
   "cell_type": "code",
   "execution_count": 23,
   "metadata": {},
   "outputs": [
    {
     "data": {
      "text/plain": [
       "array([-0.91505992,  0.5907883 ,  0.95175687,  1.07519649,  1.42671086])"
      ]
     },
     "execution_count": 23,
     "metadata": {},
     "output_type": "execute_result"
    }
   ],
   "source": [
    "np.random.randn(5)"
   ]
  },
  {
   "cell_type": "code",
   "execution_count": 24,
   "metadata": {},
   "outputs": [
    {
     "data": {
      "text/plain": [
       "array([[-0.37228371, -1.96687256,  0.31772145, -0.27281315, -0.1105348 ],\n",
       "       [-0.89206442,  1.5416299 , -1.00923046, -0.53760824, -0.105585  ],\n",
       "       [-1.38701229,  1.72267162,  1.38812358, -1.32031299, -2.23605206],\n",
       "       [-0.40181563,  0.69294437,  0.50579442, -0.69083727, -0.85811979],\n",
       "       [-1.44537359,  0.28877985,  0.04788601,  0.97188945,  1.015584  ]])"
      ]
     },
     "execution_count": 24,
     "metadata": {},
     "output_type": "execute_result"
    }
   ],
   "source": [
    "np.random.randn(5,5)"
   ]
  },
  {
   "cell_type": "code",
   "execution_count": 25,
   "metadata": {},
   "outputs": [
    {
     "data": {
      "text/plain": [
       "array([[[ 0.09862253,  1.59764702,  0.32588108,  0.95332262,\n",
       "         -0.18254624],\n",
       "        [ 1.23005203, -0.58288639,  1.01600746, -1.56426722,\n",
       "          1.11641899],\n",
       "        [ 0.77539031,  0.75373335,  0.66678629, -0.47822614,\n",
       "         -0.59642159],\n",
       "        [ 0.62726826, -0.75923457,  1.42379504, -1.32743991,\n",
       "          0.73159696],\n",
       "        [-0.8752917 ,  0.2796571 , -0.67355658,  0.92966088,\n",
       "          0.9806903 ]],\n",
       "\n",
       "       [[ 0.56192654, -0.70532485, -1.5358149 ,  2.04581832,\n",
       "          0.70427516],\n",
       "        [-0.49535993, -0.66365917,  0.76779309,  0.91430426,\n",
       "          0.02090368],\n",
       "        [-0.84209346,  0.69545532,  0.53530222, -2.05356184,\n",
       "         -0.43425187],\n",
       "        [-0.71901236, -0.65065856, -1.85822225, -0.04731218,\n",
       "         -0.36324372],\n",
       "        [ 0.00718394,  0.4306649 , -0.30650539, -0.07831737,\n",
       "         -0.72898785]],\n",
       "\n",
       "       [[ 0.52713759,  0.91745848, -1.22335551, -1.00361979,\n",
       "          0.60698593],\n",
       "        [-0.50704712, -0.85848814, -0.91812029,  0.32728715,\n",
       "          0.42803438],\n",
       "        [ 1.0907204 ,  1.65234868,  1.32080132, -0.10552868,\n",
       "          0.59165697],\n",
       "        [ 0.42513411,  0.12911055,  0.35932448, -0.07824521,\n",
       "         -0.47130811],\n",
       "        [ 1.50460861,  0.33626266, -0.5284218 ,  1.35159992,\n",
       "          0.06947386]],\n",
       "\n",
       "       [[ 1.44197378,  0.35000283,  1.53103241,  0.5200786 ,\n",
       "          0.313981  ],\n",
       "        [ 2.24322182,  0.20069171,  0.52250508,  0.84389098,\n",
       "          1.83147052],\n",
       "        [ 0.5227431 , -0.02478094,  0.51760294,  0.14801053,\n",
       "          3.07516227],\n",
       "        [ 0.04779608,  1.38136689, -0.56543413, -1.86775284,\n",
       "         -0.69039817],\n",
       "        [-0.20438116, -1.03005778,  1.09807224, -3.15026784,\n",
       "          0.31915274]],\n",
       "\n",
       "       [[-0.23157544, -0.449213  , -1.65053881,  0.30726191,\n",
       "         -1.66463537],\n",
       "        [ 0.85365941,  0.67104196, -0.94808306, -1.80711683,\n",
       "         -0.64417454],\n",
       "        [ 0.27101578, -0.02010801,  2.51300246, -0.6737865 ,\n",
       "          0.82315445],\n",
       "        [-0.58254496,  0.39102617,  0.28351672,  0.857836  ,\n",
       "         -0.96496637],\n",
       "        [ 0.88133161,  0.78745287,  0.58470163, -0.06697542,\n",
       "          0.44810575]]])"
      ]
     },
     "execution_count": 25,
     "metadata": {},
     "output_type": "execute_result"
    }
   ],
   "source": [
    "np.random.randn(5,5,5)"
   ]
  },
  {
   "cell_type": "code",
   "execution_count": 30,
   "metadata": {},
   "outputs": [
    {
     "data": {
      "text/plain": [
       "2"
      ]
     },
     "execution_count": 30,
     "metadata": {},
     "output_type": "execute_result"
    }
   ],
   "source": [
    "np.random.randint(0,5)"
   ]
  },
  {
   "cell_type": "code",
   "execution_count": 31,
   "metadata": {},
   "outputs": [
    {
     "data": {
      "text/plain": [
       "array([2, 4, 4, 1, 1])"
      ]
     },
     "execution_count": 31,
     "metadata": {},
     "output_type": "execute_result"
    }
   ],
   "source": [
    "np.random.randint(0,5,5)"
   ]
  },
  {
   "cell_type": "markdown",
   "metadata": {},
   "source": [
    "# Array attributes and methods"
   ]
  },
  {
   "cell_type": "code",
   "execution_count": 32,
   "metadata": {},
   "outputs": [],
   "source": [
    "arr1 = np.arange(50)\n",
    "arr2 = np.random.randint(0,100,20)"
   ]
  },
  {
   "cell_type": "code",
   "execution_count": 33,
   "metadata": {},
   "outputs": [
    {
     "data": {
      "text/plain": [
       "array([ 0,  1,  2,  3,  4,  5,  6,  7,  8,  9, 10, 11, 12, 13, 14, 15, 16,\n",
       "       17, 18, 19, 20, 21, 22, 23, 24, 25, 26, 27, 28, 29, 30, 31, 32, 33,\n",
       "       34, 35, 36, 37, 38, 39, 40, 41, 42, 43, 44, 45, 46, 47, 48, 49])"
      ]
     },
     "execution_count": 33,
     "metadata": {},
     "output_type": "execute_result"
    }
   ],
   "source": [
    "arr1"
   ]
  },
  {
   "cell_type": "code",
   "execution_count": 34,
   "metadata": {},
   "outputs": [
    {
     "data": {
      "text/plain": [
       "array([ 4, 39, 42, 67, 57, 75, 84, 36, 44, 79, 26, 94, 59, 91, 77, 99,  1,\n",
       "       74, 15, 26])"
      ]
     },
     "execution_count": 34,
     "metadata": {},
     "output_type": "execute_result"
    }
   ],
   "source": [
    "arr2"
   ]
  },
  {
   "cell_type": "markdown",
   "metadata": {},
   "source": [
    "# Reshape\n",
    "- Returns an array with the same data in a different shape"
   ]
  },
  {
   "cell_type": "code",
   "execution_count": 36,
   "metadata": {},
   "outputs": [
    {
     "data": {
      "text/plain": [
       "array([[ 0,  1,  2,  3,  4],\n",
       "       [ 5,  6,  7,  8,  9],\n",
       "       [10, 11, 12, 13, 14],\n",
       "       [15, 16, 17, 18, 19],\n",
       "       [20, 21, 22, 23, 24],\n",
       "       [25, 26, 27, 28, 29],\n",
       "       [30, 31, 32, 33, 34],\n",
       "       [35, 36, 37, 38, 39],\n",
       "       [40, 41, 42, 43, 44],\n",
       "       [45, 46, 47, 48, 49]])"
      ]
     },
     "execution_count": 36,
     "metadata": {},
     "output_type": "execute_result"
    }
   ],
   "source": [
    "arr1.reshape(10,5)"
   ]
  },
  {
   "cell_type": "markdown",
   "metadata": {},
   "source": [
    "# min, max, argmin, argmax"
   ]
  },
  {
   "cell_type": "code",
   "execution_count": 38,
   "metadata": {},
   "outputs": [
    {
     "data": {
      "text/plain": [
       "99"
      ]
     },
     "execution_count": 38,
     "metadata": {},
     "output_type": "execute_result"
    }
   ],
   "source": [
    "arr2.max()"
   ]
  },
  {
   "cell_type": "code",
   "execution_count": 39,
   "metadata": {},
   "outputs": [
    {
     "data": {
      "text/plain": [
       "15"
      ]
     },
     "execution_count": 39,
     "metadata": {},
     "output_type": "execute_result"
    }
   ],
   "source": [
    "arr2.argmax()"
   ]
  },
  {
   "cell_type": "code",
   "execution_count": 40,
   "metadata": {},
   "outputs": [
    {
     "data": {
      "text/plain": [
       "1"
      ]
     },
     "execution_count": 40,
     "metadata": {},
     "output_type": "execute_result"
    }
   ],
   "source": [
    "arr2.min()"
   ]
  },
  {
   "cell_type": "code",
   "execution_count": 41,
   "metadata": {},
   "outputs": [
    {
     "data": {
      "text/plain": [
       "16"
      ]
     },
     "execution_count": 41,
     "metadata": {},
     "output_type": "execute_result"
    }
   ],
   "source": [
    "arr2.argmin()"
   ]
  },
  {
   "cell_type": "code",
   "execution_count": null,
   "metadata": {},
   "outputs": [],
   "source": []
  }
 ],
 "metadata": {
  "kernelspec": {
   "display_name": "Python 3",
   "language": "python",
   "name": "python3"
  },
  "language_info": {
   "codemirror_mode": {
    "name": "ipython",
    "version": 3
   },
   "file_extension": ".py",
   "mimetype": "text/x-python",
   "name": "python",
   "nbconvert_exporter": "python",
   "pygments_lexer": "ipython3",
   "version": "3.7.6"
  }
 },
 "nbformat": 4,
 "nbformat_minor": 4
}
